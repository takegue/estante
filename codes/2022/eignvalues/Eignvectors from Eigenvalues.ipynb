{
 "cells": [
  {
   "cell_type": "markdown",
   "metadata": {},
   "source": [
    "\n",
    "# Eignvectors from Eigenvalues\n",
    "\n",
    "Papaer: https://arxiv.org/abs/1908.03795\n"
   ]
  },
  {
   "cell_type": "code",
   "execution_count": 105,
   "metadata": {
    "ExecuteTime": {
     "end_time": "2019-11-16T16:51:41.791736Z",
     "start_time": "2019-11-16T16:51:41.785760Z"
    }
   },
   "outputs": [],
   "source": [
    "import numpy.random\n",
    "import numpy.linalg as LA\n",
    "\n",
    "import numpy as np\n",
    "import scipy as sp"
   ]
  },
  {
   "cell_type": "code",
   "execution_count": 106,
   "metadata": {
    "ExecuteTime": {
     "end_time": "2019-11-16T16:51:42.007791Z",
     "start_time": "2019-11-16T16:51:41.997192Z"
    }
   },
   "outputs": [
    {
     "data": {
      "text/plain": [
       "array([[1.10734586, 0.69826139, 0.85450227, 1.23784275, 0.93296744],\n",
       "       [0.69826139, 0.28973321, 0.70949554, 0.99778883, 0.60094674],\n",
       "       [0.85450227, 0.70949554, 1.48771461, 1.18879793, 1.48569274],\n",
       "       [1.23784275, 0.99778883, 1.18879793, 0.89232543, 0.93979878],\n",
       "       [0.93296744, 0.60094674, 1.48569274, 0.93979878, 1.46443136]])"
      ]
     },
     "execution_count": 106,
     "metadata": {},
     "output_type": "execute_result"
    }
   ],
   "source": [
    "# Generate Hermitian \n",
    "n = 5 \n",
    "A = np.random.random_sample((n, n))\n",
    "A = A + A.T\n",
    "\n",
    "A"
   ]
  },
  {
   "cell_type": "code",
   "execution_count": 114,
   "metadata": {
    "ExecuteTime": {
     "end_time": "2019-11-16T16:58:41.157424Z",
     "start_time": "2019-11-16T16:58:41.139887Z"
    }
   },
   "outputs": [
    {
     "data": {
      "text/plain": [
       "(array([ 5.05698748,  0.73710632,  0.13018355, -0.52350948, -0.1592174 ]),\n",
       " array([[ 0.42669068,  0.54629973,  0.50924115, -0.26548431, -0.43552635],\n",
       "        [ 0.2987156 ,  0.28697846, -0.34329407, -0.58441577,  0.60746995],\n",
       "        [ 0.52106583, -0.43768337, -0.49630593, -0.18381458, -0.50677045],\n",
       "        [ 0.45913994,  0.37868344, -0.27801706,  0.73907004,  0.14923591],\n",
       "        [ 0.4963718 , -0.53313421,  0.54700053,  0.089241  ,  0.4027523 ]]))"
      ]
     },
     "execution_count": 114,
     "metadata": {},
     "output_type": "execute_result"
    }
   ],
   "source": [
    "# Calculate Eignvalues of A\n",
    "w, v = np.linalg.eig(A)\n",
    "\n",
    "(w, v)"
   ]
  },
  {
   "cell_type": "code",
   "execution_count": 108,
   "metadata": {
    "ExecuteTime": {
     "end_time": "2019-11-16T16:51:42.427354Z",
     "start_time": "2019-11-16T16:51:42.416079Z"
    }
   },
   "outputs": [
    {
     "data": {
      "text/plain": [
       "(5, 5)"
      ]
     },
     "execution_count": 108,
     "metadata": {},
     "output_type": "execute_result"
    }
   ],
   "source": [
    "X = np.power(v, 2) \n",
    "X.shape"
   ]
  },
  {
   "cell_type": "code",
   "execution_count": 109,
   "metadata": {
    "ExecuteTime": {
     "end_time": "2019-11-16T16:51:42.846167Z",
     "start_time": "2019-11-16T16:51:42.816782Z"
    }
   },
   "outputs": [
    {
     "data": {
      "text/plain": [
       "(5, 4)"
      ]
     },
     "execution_count": 109,
     "metadata": {},
     "output_type": "execute_result"
    }
   ],
   "source": [
    "def submatrix(A, i):\n",
    "    return np.delete(np.delete(A, i, axis=1), i, axis=0).T\n",
    "\n",
    "M = [ np.linalg.eig(submatrix(A, i))[0] for i in range(n)]\n",
    "\n",
    "np.array(M).shape"
   ]
  },
  {
   "cell_type": "code",
   "execution_count": 110,
   "metadata": {
    "ExecuteTime": {
     "end_time": "2019-11-16T16:51:43.276989Z",
     "start_time": "2019-11-16T16:51:43.264763Z"
    }
   },
   "outputs": [
    {
     "data": {
      "text/plain": [
       "(array([[1.10734586, 0.69826139, 0.85450227, 1.23784275, 0.93296744],\n",
       "        [0.69826139, 0.28973321, 0.70949554, 0.99778883, 0.60094674],\n",
       "        [0.85450227, 0.70949554, 1.48771461, 1.18879793, 1.48569274],\n",
       "        [1.23784275, 0.99778883, 1.18879793, 0.89232543, 0.93979878],\n",
       "        [0.93296744, 0.60094674, 1.48569274, 0.93979878, 1.46443136]]),\n",
       " array([[1.10734586, 0.69826139, 0.85450227, 0.93296744],\n",
       "        [0.69826139, 0.28973321, 0.70949554, 0.60094674],\n",
       "        [0.85450227, 0.70949554, 1.48771461, 1.48569274],\n",
       "        [0.93296744, 0.60094674, 1.48569274, 1.46443136]]))"
      ]
     },
     "execution_count": 110,
     "metadata": {},
     "output_type": "execute_result"
    }
   ],
   "source": [
    "A, submatrix(A, 3)"
   ]
  },
  {
   "cell_type": "code",
   "execution_count": 112,
   "metadata": {
    "ExecuteTime": {
     "end_time": "2019-11-16T16:51:54.794284Z",
     "start_time": "2019-11-16T16:51:54.777793Z"
    }
   },
   "outputs": [
    {
     "data": {
      "text/plain": [
       "(array([0.18206494, 0.08923101, 0.2715096 , 0.21080948, 0.24638497,\n",
       "        0.29844339, 0.08235664, 0.19156673, 0.14340115, 0.28423209,\n",
       "        0.25932655, 0.11785082, 0.24631958, 0.07729348, 0.29920957,\n",
       "        0.07048192, 0.34154179, 0.0337878 , 0.54622453, 0.00796396,\n",
       "        0.1896832 , 0.36901974, 0.25681629, 0.02227136, 0.16220942]),\n",
       " array([0.18206494, 0.08923101, 0.2715096 , 0.21080948, 0.24638497,\n",
       "        0.29844339, 0.08235664, 0.19156673, 0.14340115, 0.28423209,\n",
       "        0.25932655, 0.11785082, 0.24631958, 0.07729348, 0.29920957,\n",
       "        0.07048192, 0.34154179, 0.0337878 , 0.54622453, 0.00796396,\n",
       "        0.1896832 , 0.36901974, 0.25681629, 0.02227136, 0.16220942]))"
      ]
     },
     "execution_count": 112,
     "metadata": {},
     "output_type": "execute_result"
    }
   ],
   "source": [
    "V = np.zeros((n, n))\n",
    "for i in range(n):\n",
    "    a = np.prod(w[i] - np.delete(w, i))\n",
    "    for j in range(n):\n",
    "        b = np.prod(w[i] - M[j])\n",
    "        V[i][j] = b/a\n",
    "        \n",
    "V.flatten(), X.T.flatten()"
   ]
  },
  {
   "cell_type": "code",
   "execution_count": null,
   "metadata": {},
   "outputs": [],
   "source": []
  }
 ],
 "metadata": {
  "kernelspec": {
   "display_name": "Python 3",
   "language": "python",
   "name": "python3"
  },
  "language_info": {
   "codemirror_mode": {
    "name": "ipython",
    "version": 3
   },
   "file_extension": ".py",
   "mimetype": "text/x-python",
   "name": "python",
   "nbconvert_exporter": "python",
   "pygments_lexer": "ipython3",
   "version": "3.7.4"
  },
  "latex_envs": {
   "bibliofile": "biblio.bib",
   "cite_by": "apalike",
   "current_citInitial": 1,
   "eqLabelWithNumbers": true,
   "eqNumInitial": 0
  },
  "toc": {
   "toc_cell": false,
   "toc_number_sections": true,
   "toc_threshold": 6,
   "toc_window_display": true
  }
 },
 "nbformat": 4,
 "nbformat_minor": 2
}
